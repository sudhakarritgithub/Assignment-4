{
 "cells": [
  {
   "cell_type": "raw",
   "id": "c57eb65d-d917-4895-b711-8dbc037a3758",
   "metadata": {},
   "source": [
    "                                                     ASSIGNMENT- 4"
   ]
  },
  {
   "cell_type": "raw",
   "id": "e1e86772-fe58-424e-8b9b-1dfcfe367fb8",
   "metadata": {},
   "source": []
  },
  {
   "cell_type": "raw",
   "id": "0ef730b8-017a-485f-a951-2c35429e24ed",
   "metadata": {},
   "source": [
    "Ques.1  Create a python program to sort the given list of tuples based on integer value using a lambda function.\n",
    "        [('Sachin Tendulkar', 34357), ('Ricky Ponting', 27483), ('Jack Kallis', 25534), ('Virat Kohli', 24936)]"
   ]
  },
  {
   "cell_type": "code",
   "execution_count": 1,
   "id": "f4adae6a-b97a-4d8d-8ac9-bc50d6b25c53",
   "metadata": {},
   "outputs": [
    {
     "name": "stdout",
     "output_type": "stream",
     "text": [
      "[('Virat Kohli', 24936), ('Jack Kallis', 25534), ('Ricky Ponting', 27483), ('Sachin Tendulkar', 34357)]\n"
     ]
    }
   ],
   "source": [
    "data = [('Sachin Tendulkar', 34357), ('Ricky Ponting', 27483), ('Jack Kallis', 25534), ('Virat Kohli', 24936)]\n",
    "\n",
    "sorted_data = sorted(data, key=lambda x: x[1])\n",
    "\n",
    "print(sorted_data)\n"
   ]
  },
  {
   "cell_type": "raw",
   "id": "9373ec26-8627-41d1-b977-d5a739372cf0",
   "metadata": {},
   "source": []
  },
  {
   "cell_type": "raw",
   "id": "ef853c24-c0b0-4037-96ad-55b0f841b2dc",
   "metadata": {},
   "source": []
  },
  {
   "cell_type": "raw",
   "id": "9fcfa676-0e25-41ed-a778-1a14655796e5",
   "metadata": {},
   "source": [
    "Ques.2  Write a Python Program to find the squares of all the numbers in the given list of integers using lambda and map               functions.\n",
    "        [1, 2, 3, 4, 5, 6, 7, 8, 9, 10]"
   ]
  },
  {
   "cell_type": "code",
   "execution_count": 3,
   "id": "50df12e4-82ac-40f0-a323-9e343422f489",
   "metadata": {},
   "outputs": [
    {
     "data": {
      "text/plain": [
       "[1, 4, 9, 16, 25, 36, 49, 64, 81, 100]"
      ]
     },
     "execution_count": 3,
     "metadata": {},
     "output_type": "execute_result"
    }
   ],
   "source": [
    "l=[1,2,3,4,5,6,7,8,9,10]\n",
    "list(map(lambda x:x**2,l))"
   ]
  },
  {
   "cell_type": "raw",
   "id": "66589c07-5132-410d-98e8-009f2a445f4d",
   "metadata": {},
   "source": []
  },
  {
   "cell_type": "raw",
   "id": "25c82bd8-2295-406b-80a1-145ebfcb9205",
   "metadata": {},
   "source": []
  },
  {
   "cell_type": "raw",
   "id": "067e8f82-634f-4cce-9328-a5d4ade22c2e",
   "metadata": {},
   "source": [
    "Ques.3 . Write a python program to convert the given list of integers into a tuple of strings. Use map and lambda functions\n",
    "         Given String: [1, 2, 3, 4, 5, 6, 7, 8, 9, 10]\n",
    "         Expected output: ('1', '2', '3', '4', '5', '6', '7', '8', '9', '10')"
   ]
  },
  {
   "cell_type": "code",
   "execution_count": 4,
   "id": "ce73285c-f1c2-4f0a-86ea-878ba6557913",
   "metadata": {},
   "outputs": [
    {
     "data": {
      "text/plain": [
       "[1, 2, 3, 4, 5, 6, 7, 8, 9, 10]"
      ]
     },
     "execution_count": 4,
     "metadata": {},
     "output_type": "execute_result"
    }
   ],
   "source": [
    "l"
   ]
  },
  {
   "cell_type": "code",
   "execution_count": 5,
   "id": "5a13d283-a1d3-4bc1-83a4-5624db349f57",
   "metadata": {},
   "outputs": [
    {
     "data": {
      "text/plain": [
       "('1', '2', '3', '4', '5', '6', '7', '8', '9', '10')"
      ]
     },
     "execution_count": 5,
     "metadata": {},
     "output_type": "execute_result"
    }
   ],
   "source": [
    "tuple(map(lambda x:str(x),l))"
   ]
  },
  {
   "cell_type": "raw",
   "id": "60458e72-c587-4b68-9d9b-a92c995e5641",
   "metadata": {},
   "source": []
  },
  {
   "cell_type": "raw",
   "id": "ae482bda-801c-43c9-93ab-0e8b9ee44e77",
   "metadata": {},
   "source": []
  },
  {
   "cell_type": "raw",
   "id": "e1499a92-a207-4ac3-a920-712257a63321",
   "metadata": {},
   "source": [
    "Ques.4 Write a python program using reduce function to compute the product of a list containing numbers from 1 to 25."
   ]
  },
  {
   "cell_type": "code",
   "execution_count": 11,
   "id": "395fa39a-106f-4b1a-993b-3857659f8a04",
   "metadata": {},
   "outputs": [
    {
     "name": "stdout",
     "output_type": "stream",
     "text": [
      "Product of numbers from 1 to 25: 15511210043330985984000000\n"
     ]
    }
   ],
   "source": [
    "from functools import reduce\n",
    "\n",
    "# Function to multiply two numbers\n",
    "def multiply(x, y):\n",
    "    return x * y\n",
    "\n",
    "# Create a list of numbers from 1 to 25\n",
    "numbers = list(range(1, 26))\n",
    "\n",
    "# Compute the product using reduce\n",
    "product = reduce(multiply, numbers)\n",
    "\n",
    "print(\"Product of numbers from 1 to 25:\", product)\n",
    "\n"
   ]
  },
  {
   "cell_type": "raw",
   "id": "38e72515-cd5f-4ef1-b700-4a1dc36c6774",
   "metadata": {},
   "source": []
  },
  {
   "cell_type": "raw",
   "id": "5465e31a-e54d-4ba3-9ee7-2e8b52a194a1",
   "metadata": {},
   "source": []
  },
  {
   "cell_type": "raw",
   "id": "02271791-c1ac-42f4-996c-179893ee310b",
   "metadata": {},
   "source": [
    "Ques.5  Write a python program to filter the numbers in a given list that are divisible by 2 and 3 using the filter function.\n",
    "        [2, 3, 6, 9, 27, 60, 90, 120, 55, 46] "
   ]
  },
  {
   "cell_type": "code",
   "execution_count": 12,
   "id": "07096d0a-d6e5-46ef-b6d9-99b94c1dacc1",
   "metadata": {},
   "outputs": [],
   "source": [
    "l1=[2,3,6,9,27,60,90,120,55,46]"
   ]
  },
  {
   "cell_type": "code",
   "execution_count": 15,
   "id": "07801917-e63f-42c4-ad76-2f13202fa57e",
   "metadata": {},
   "outputs": [
    {
     "data": {
      "text/plain": [
       "[2, 6, 60, 90, 120, 46]"
      ]
     },
     "execution_count": 15,
     "metadata": {},
     "output_type": "execute_result"
    }
   ],
   "source": [
    "list(filter(lambda x:x%2&3==0,l1))"
   ]
  },
  {
   "cell_type": "raw",
   "id": "4cec8766-6487-4acf-a42e-48f213cf9e18",
   "metadata": {},
   "source": []
  },
  {
   "cell_type": "raw",
   "id": "8aee2de3-30b6-42ea-abf5-996aa86f1ff7",
   "metadata": {},
   "source": []
  },
  {
   "cell_type": "raw",
   "id": "a91ad63b-7fb6-4c6e-9023-118ad93425dd",
   "metadata": {},
   "source": [
    "Ques.6  Write a python program to find palindromes in the given list of strings using lambda and filter function.\n",
    "        ['python', 'php', 'aba', 'radar', 'level']"
   ]
  },
  {
   "cell_type": "code",
   "execution_count": 18,
   "id": "f0bf8a53-4cd0-4f57-8759-9937bd156ed2",
   "metadata": {},
   "outputs": [
    {
     "name": "stdout",
     "output_type": "stream",
     "text": [
      "Palindromes in the list: ['php', 'aba', 'radar', 'level']\n"
     ]
    }
   ],
   "source": [
    "words = ['python', 'php', 'aba', 'radar', 'level']\n",
    "is_palindrome = lambda word: word == word[::-1]\n",
    "palindromes = list(filter(is_palindrome, words))\n",
    "print(\"Palindromes in the list:\", palindromes)"
   ]
  },
  {
   "cell_type": "code",
   "execution_count": null,
   "id": "a47e37ff-e774-418f-b282-2759594b8623",
   "metadata": {},
   "outputs": [],
   "source": []
  }
 ],
 "metadata": {
  "kernelspec": {
   "display_name": "Python 3 (ipykernel)",
   "language": "python",
   "name": "python3"
  },
  "language_info": {
   "codemirror_mode": {
    "name": "ipython",
    "version": 3
   },
   "file_extension": ".py",
   "mimetype": "text/x-python",
   "name": "python",
   "nbconvert_exporter": "python",
   "pygments_lexer": "ipython3",
   "version": "3.10.8"
  }
 },
 "nbformat": 4,
 "nbformat_minor": 5
}
